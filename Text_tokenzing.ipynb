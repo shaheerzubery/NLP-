{
  "nbformat": 4,
  "nbformat_minor": 0,
  "metadata": {
    "colab": {
      "provenance": [],
      "authorship_tag": "ABX9TyPFh903JltyhSx8rt6eA9O/",
      "include_colab_link": true
    },
    "kernelspec": {
      "name": "python3",
      "display_name": "Python 3"
    },
    "language_info": {
      "name": "python"
    }
  },
  "cells": [
    {
      "cell_type": "markdown",
      "metadata": {
        "id": "view-in-github",
        "colab_type": "text"
      },
      "source": [
        "<a href=\"https://colab.research.google.com/github/shaheerzubery/NLP-/blob/main/Text_tokenzing.ipynb\" target=\"_parent\"><img src=\"https://colab.research.google.com/assets/colab-badge.svg\" alt=\"Open In Colab\"/></a>"
      ]
    },
    {
      "cell_type": "markdown",
      "source": [
        "### Text Tokenizaion\n"
      ],
      "metadata": {
        "id": "vlCUOMkVFYxk"
      }
    },
    {
      "cell_type": "markdown",
      "source": [
        "So, we will tokenize the text and count it's frequency"
      ],
      "metadata": {
        "id": "hQ0fcnEEFddO"
      }
    },
    {
      "cell_type": "code",
      "execution_count": 4,
      "metadata": {
        "id": "Ab5GXVwNFLOd"
      },
      "outputs": [],
      "source": [
        "corpus1 = \"It was a bright and sunny day.\"\n",
        "\n",
        "corpus2 = \"I think a bad mood is a very common problem that we experience in our daily life.\"\n"
      ]
    },
    {
      "cell_type": "markdown",
      "source": [
        "we just took two corpus now we will tokenize it on the basis of space"
      ],
      "metadata": {
        "id": "pNmrx51EFoIo"
      }
    },
    {
      "cell_type": "code",
      "source": [
        "list_1 = corpus1.split(\" \")\n",
        "list_2 = corpus2.split(\" \")"
      ],
      "metadata": {
        "id": "pbBn8DBZFm80"
      },
      "execution_count": 5,
      "outputs": []
    },
    {
      "cell_type": "markdown",
      "source": [
        "now we will union both the tokezied sets"
      ],
      "metadata": {
        "id": "1BW_nEYGF4a8"
      }
    },
    {
      "cell_type": "code",
      "source": [
        "list_1"
      ],
      "metadata": {
        "colab": {
          "base_uri": "https://localhost:8080/"
        },
        "id": "OKsza1jxF3KD",
        "outputId": "23ea9145-855c-4e31-e979-01400a74ad7f"
      },
      "execution_count": 6,
      "outputs": [
        {
          "output_type": "execute_result",
          "data": {
            "text/plain": [
              "['It', 'was', 'a', 'bright', 'and', 'sunny', 'day.']"
            ]
          },
          "metadata": {},
          "execution_count": 6
        }
      ]
    },
    {
      "cell_type": "code",
      "source": [
        "list_2"
      ],
      "metadata": {
        "colab": {
          "base_uri": "https://localhost:8080/"
        },
        "id": "m4lYjKJPF_O0",
        "outputId": "d22f175a-17cf-46f6-b5fc-b7eb2aba200e"
      },
      "execution_count": 7,
      "outputs": [
        {
          "output_type": "execute_result",
          "data": {
            "text/plain": [
              "['I',\n",
              " 'think',\n",
              " 'a',\n",
              " 'bad',\n",
              " 'mood',\n",
              " 'is',\n",
              " 'a',\n",
              " 'very',\n",
              " 'common',\n",
              " 'problem',\n",
              " 'that',\n",
              " 'we',\n",
              " 'experience',\n",
              " 'in',\n",
              " 'our',\n",
              " 'daily',\n",
              " 'life.']"
            ]
          },
          "metadata": {},
          "execution_count": 7
        }
      ]
    },
    {
      "cell_type": "code",
      "source": [
        "Unique_set = set(list_1).union(set(list_2))"
      ],
      "metadata": {
        "id": "jgLTDNGSGDGz"
      },
      "execution_count": 8,
      "outputs": []
    },
    {
      "cell_type": "code",
      "source": [
        "Unique_set"
      ],
      "metadata": {
        "colab": {
          "base_uri": "https://localhost:8080/"
        },
        "id": "Tur0SfPrGLFn",
        "outputId": "b15033ad-8d06-47d1-c0d7-f1855caade6c"
      },
      "execution_count": 9,
      "outputs": [
        {
          "output_type": "execute_result",
          "data": {
            "text/plain": [
              "{'I',\n",
              " 'It',\n",
              " 'a',\n",
              " 'and',\n",
              " 'bad',\n",
              " 'bright',\n",
              " 'common',\n",
              " 'daily',\n",
              " 'day.',\n",
              " 'experience',\n",
              " 'in',\n",
              " 'is',\n",
              " 'life.',\n",
              " 'mood',\n",
              " 'our',\n",
              " 'problem',\n",
              " 'sunny',\n",
              " 'that',\n",
              " 'think',\n",
              " 'very',\n",
              " 'was',\n",
              " 'we'}"
            ]
          },
          "metadata": {},
          "execution_count": 9
        }
      ]
    },
    {
      "cell_type": "markdown",
      "source": [
        "Now we will find the count "
      ],
      "metadata": {
        "id": "InWwpMjhGPKN"
      }
    },
    {
      "cell_type": "code",
      "source": [
        "num_list1 = dict.fromkeys(Unique_set,0)\n",
        "\n",
        "for word in list_1:\n",
        "  num_list1[word] += 1\n",
        "\n",
        "num_list2 = dict.fromkeys(Unique_set,0)\n",
        "\n",
        "for word in list_2:\n",
        "  num_list2[word] += 1\n",
        "\n"
      ],
      "metadata": {
        "id": "NjtSAF0TGM-m"
      },
      "execution_count": 10,
      "outputs": []
    },
    {
      "cell_type": "code",
      "source": [
        "import pandas as pd\n"
      ],
      "metadata": {
        "id": "gwnvkLYlGiKt"
      },
      "execution_count": 12,
      "outputs": []
    },
    {
      "cell_type": "code",
      "source": [
        "df = pd.DataFrame([num_list1,num_list2])\n",
        "df"
      ],
      "metadata": {
        "colab": {
          "base_uri": "https://localhost:8080/",
          "height": 141
        },
        "id": "87kmVj8tGjck",
        "outputId": "8dad5d18-54d5-4dca-e741-4eff258f2f19"
      },
      "execution_count": 13,
      "outputs": [
        {
          "output_type": "execute_result",
          "data": {
            "text/plain": [
              "   very  that  was  our  and  bright  experience  common  daily  problem  ...  \\\n",
              "0     0     0    1    0    1       1           0       0      0        0  ...   \n",
              "1     1     1    0    1    0       0           1       1      1        1  ...   \n",
              "\n",
              "   think  mood  a  sunny  It  day.  life.  I  bad  is  \n",
              "0      0     0  1      1   1     1      0  0    0   0  \n",
              "1      1     1  2      0   0     0      1  1    1   1  \n",
              "\n",
              "[2 rows x 22 columns]"
            ],
            "text/html": [
              "\n",
              "  <div id=\"df-f959fa10-9cae-4cc8-90cb-e2364e34a494\">\n",
              "    <div class=\"colab-df-container\">\n",
              "      <div>\n",
              "<style scoped>\n",
              "    .dataframe tbody tr th:only-of-type {\n",
              "        vertical-align: middle;\n",
              "    }\n",
              "\n",
              "    .dataframe tbody tr th {\n",
              "        vertical-align: top;\n",
              "    }\n",
              "\n",
              "    .dataframe thead th {\n",
              "        text-align: right;\n",
              "    }\n",
              "</style>\n",
              "<table border=\"1\" class=\"dataframe\">\n",
              "  <thead>\n",
              "    <tr style=\"text-align: right;\">\n",
              "      <th></th>\n",
              "      <th>very</th>\n",
              "      <th>that</th>\n",
              "      <th>was</th>\n",
              "      <th>our</th>\n",
              "      <th>and</th>\n",
              "      <th>bright</th>\n",
              "      <th>experience</th>\n",
              "      <th>common</th>\n",
              "      <th>daily</th>\n",
              "      <th>problem</th>\n",
              "      <th>...</th>\n",
              "      <th>think</th>\n",
              "      <th>mood</th>\n",
              "      <th>a</th>\n",
              "      <th>sunny</th>\n",
              "      <th>It</th>\n",
              "      <th>day.</th>\n",
              "      <th>life.</th>\n",
              "      <th>I</th>\n",
              "      <th>bad</th>\n",
              "      <th>is</th>\n",
              "    </tr>\n",
              "  </thead>\n",
              "  <tbody>\n",
              "    <tr>\n",
              "      <th>0</th>\n",
              "      <td>0</td>\n",
              "      <td>0</td>\n",
              "      <td>1</td>\n",
              "      <td>0</td>\n",
              "      <td>1</td>\n",
              "      <td>1</td>\n",
              "      <td>0</td>\n",
              "      <td>0</td>\n",
              "      <td>0</td>\n",
              "      <td>0</td>\n",
              "      <td>...</td>\n",
              "      <td>0</td>\n",
              "      <td>0</td>\n",
              "      <td>1</td>\n",
              "      <td>1</td>\n",
              "      <td>1</td>\n",
              "      <td>1</td>\n",
              "      <td>0</td>\n",
              "      <td>0</td>\n",
              "      <td>0</td>\n",
              "      <td>0</td>\n",
              "    </tr>\n",
              "    <tr>\n",
              "      <th>1</th>\n",
              "      <td>1</td>\n",
              "      <td>1</td>\n",
              "      <td>0</td>\n",
              "      <td>1</td>\n",
              "      <td>0</td>\n",
              "      <td>0</td>\n",
              "      <td>1</td>\n",
              "      <td>1</td>\n",
              "      <td>1</td>\n",
              "      <td>1</td>\n",
              "      <td>...</td>\n",
              "      <td>1</td>\n",
              "      <td>1</td>\n",
              "      <td>2</td>\n",
              "      <td>0</td>\n",
              "      <td>0</td>\n",
              "      <td>0</td>\n",
              "      <td>1</td>\n",
              "      <td>1</td>\n",
              "      <td>1</td>\n",
              "      <td>1</td>\n",
              "    </tr>\n",
              "  </tbody>\n",
              "</table>\n",
              "<p>2 rows × 22 columns</p>\n",
              "</div>\n",
              "      <button class=\"colab-df-convert\" onclick=\"convertToInteractive('df-f959fa10-9cae-4cc8-90cb-e2364e34a494')\"\n",
              "              title=\"Convert this dataframe to an interactive table.\"\n",
              "              style=\"display:none;\">\n",
              "        \n",
              "  <svg xmlns=\"http://www.w3.org/2000/svg\" height=\"24px\"viewBox=\"0 0 24 24\"\n",
              "       width=\"24px\">\n",
              "    <path d=\"M0 0h24v24H0V0z\" fill=\"none\"/>\n",
              "    <path d=\"M18.56 5.44l.94 2.06.94-2.06 2.06-.94-2.06-.94-.94-2.06-.94 2.06-2.06.94zm-11 1L8.5 8.5l.94-2.06 2.06-.94-2.06-.94L8.5 2.5l-.94 2.06-2.06.94zm10 10l.94 2.06.94-2.06 2.06-.94-2.06-.94-.94-2.06-.94 2.06-2.06.94z\"/><path d=\"M17.41 7.96l-1.37-1.37c-.4-.4-.92-.59-1.43-.59-.52 0-1.04.2-1.43.59L10.3 9.45l-7.72 7.72c-.78.78-.78 2.05 0 2.83L4 21.41c.39.39.9.59 1.41.59.51 0 1.02-.2 1.41-.59l7.78-7.78 2.81-2.81c.8-.78.8-2.07 0-2.86zM5.41 20L4 18.59l7.72-7.72 1.47 1.35L5.41 20z\"/>\n",
              "  </svg>\n",
              "      </button>\n",
              "      \n",
              "  <style>\n",
              "    .colab-df-container {\n",
              "      display:flex;\n",
              "      flex-wrap:wrap;\n",
              "      gap: 12px;\n",
              "    }\n",
              "\n",
              "    .colab-df-convert {\n",
              "      background-color: #E8F0FE;\n",
              "      border: none;\n",
              "      border-radius: 50%;\n",
              "      cursor: pointer;\n",
              "      display: none;\n",
              "      fill: #1967D2;\n",
              "      height: 32px;\n",
              "      padding: 0 0 0 0;\n",
              "      width: 32px;\n",
              "    }\n",
              "\n",
              "    .colab-df-convert:hover {\n",
              "      background-color: #E2EBFA;\n",
              "      box-shadow: 0px 1px 2px rgba(60, 64, 67, 0.3), 0px 1px 3px 1px rgba(60, 64, 67, 0.15);\n",
              "      fill: #174EA6;\n",
              "    }\n",
              "\n",
              "    [theme=dark] .colab-df-convert {\n",
              "      background-color: #3B4455;\n",
              "      fill: #D2E3FC;\n",
              "    }\n",
              "\n",
              "    [theme=dark] .colab-df-convert:hover {\n",
              "      background-color: #434B5C;\n",
              "      box-shadow: 0px 1px 3px 1px rgba(0, 0, 0, 0.15);\n",
              "      filter: drop-shadow(0px 1px 2px rgba(0, 0, 0, 0.3));\n",
              "      fill: #FFFFFF;\n",
              "    }\n",
              "  </style>\n",
              "\n",
              "      <script>\n",
              "        const buttonEl =\n",
              "          document.querySelector('#df-f959fa10-9cae-4cc8-90cb-e2364e34a494 button.colab-df-convert');\n",
              "        buttonEl.style.display =\n",
              "          google.colab.kernel.accessAllowed ? 'block' : 'none';\n",
              "\n",
              "        async function convertToInteractive(key) {\n",
              "          const element = document.querySelector('#df-f959fa10-9cae-4cc8-90cb-e2364e34a494');\n",
              "          const dataTable =\n",
              "            await google.colab.kernel.invokeFunction('convertToInteractive',\n",
              "                                                     [key], {});\n",
              "          if (!dataTable) return;\n",
              "\n",
              "          const docLinkHtml = 'Like what you see? Visit the ' +\n",
              "            '<a target=\"_blank\" href=https://colab.research.google.com/notebooks/data_table.ipynb>data table notebook</a>'\n",
              "            + ' to learn more about interactive tables.';\n",
              "          element.innerHTML = '';\n",
              "          dataTable['output_type'] = 'display_data';\n",
              "          await google.colab.output.renderOutput(dataTable, element);\n",
              "          const docLink = document.createElement('div');\n",
              "          docLink.innerHTML = docLinkHtml;\n",
              "          element.appendChild(docLink);\n",
              "        }\n",
              "      </script>\n",
              "    </div>\n",
              "  </div>\n",
              "  "
            ]
          },
          "metadata": {},
          "execution_count": 13
        }
      ]
    },
    {
      "cell_type": "markdown",
      "source": [
        "Thank you for watching"
      ],
      "metadata": {
        "id": "ZVPaUm5OGwZP"
      }
    },
    {
      "cell_type": "code",
      "source": [],
      "metadata": {
        "id": "N1Sru2ByGuVW"
      },
      "execution_count": null,
      "outputs": []
    }
  ]
}