{
  "nbformat": 4,
  "nbformat_minor": 0,
  "metadata": {
    "colab": {
      "provenance": [],
      "authorship_tag": "ABX9TyMmaqQt0/u7tYUAbGrZra3w",
      "include_colab_link": true
    },
    "kernelspec": {
      "name": "python3",
      "display_name": "Python 3"
    },
    "language_info": {
      "name": "python"
    }
  },
  "cells": [
    {
      "cell_type": "markdown",
      "metadata": {
        "id": "view-in-github",
        "colab_type": "text"
      },
      "source": [
        "<a href=\"https://colab.research.google.com/github/shaheerzubery/NLP-/blob/main/TFIDF_Practical_Implementation.ipynb\" target=\"_parent\"><img src=\"https://colab.research.google.com/assets/colab-badge.svg\" alt=\"Open In Colab\"/></a>"
      ]
    },
    {
      "cell_type": "markdown",
      "source": [
        "### TFIFD Manual as well as SKlearn Implementation"
      ],
      "metadata": {
        "id": "nb46xoivQ7EN"
      }
    },
    {
      "cell_type": "markdown",
      "source": [
        "today we are going to implement tfidf through sklearn as well as manual code"
      ],
      "metadata": {
        "id": "Ie1dYsWPSM1M"
      }
    },
    {
      "cell_type": "code",
      "execution_count": 1,
      "metadata": {
        "id": "3KZdV4-nQzL4"
      },
      "outputs": [],
      "source": [
        "corpus1 = \"It was a bright and sunny day. The sun shone brilliantly in the clear, blue sky. It was a bright and sunny day. White, fluffy clouds drifted across the clear, blue sky\"\n",
        "\n",
        "corpus2 = \"I think a bad mood is a very common problem that we experience in our daily life. There are different situations that result in turning our good or normal mood into a bad one.\"\n"
      ]
    },
    {
      "cell_type": "markdown",
      "source": [
        "I have consder 2 corpus of different sizes"
      ],
      "metadata": {
        "id": "P8NQMruDSViM"
      }
    },
    {
      "cell_type": "code",
      "source": [
        "list_of_word_1 = corpus1.split(\" \")\n",
        "list_of_word_2 = corpus2.split(\" \")"
      ],
      "metadata": {
        "id": "2E0LR_QjSa9K"
      },
      "execution_count": 2,
      "outputs": []
    },
    {
      "cell_type": "markdown",
      "source": [
        "Now check the unique items in both lists"
      ],
      "metadata": {
        "id": "2-f7dGgWSmEp"
      }
    },
    {
      "cell_type": "code",
      "source": [
        "Unique_element = set(list_of_word_1).union(set(list_of_word_2))\n",
        "Unique_element"
      ],
      "metadata": {
        "id": "AFFaDyD2SkUh"
      },
      "execution_count": null,
      "outputs": []
    },
    {
      "cell_type": "markdown",
      "source": [
        "## Bag of words"
      ],
      "metadata": {
        "id": "p09kjqOWS5BG"
      }
    },
    {
      "cell_type": "code",
      "source": [
        "nums_list_1 = dict.fromkeys(Unique_element,0)\n",
        "for word in list_of_word_1:\n",
        "  nums_list_1[word] += 1\n",
        "#do the same for 2nd corpus\n",
        "\n",
        "nums_list_2 = dict.fromkeys(Unique_element,0)\n",
        "for word in list_of_word_2:\n",
        "  nums_list_2[word] += 1"
      ],
      "metadata": {
        "id": "3aVjtyZ-SzWu"
      },
      "execution_count": 5,
      "outputs": []
    },
    {
      "cell_type": "markdown",
      "source": [
        "Find the term frequency for both the corpus"
      ],
      "metadata": {
        "id": "bKGiAI2-TULe"
      }
    },
    {
      "cell_type": "code",
      "source": [
        "def compute_tf(word_list, list_of_word):\n",
        "  tf_dict = {}\n",
        "  word_count = len(list_of_word)\n",
        "  for word, count in word_list.items():\n",
        "    tf_dict[word] = count / float(word_count)\n",
        "  return tf_dict\n",
        "\n"
      ],
      "metadata": {
        "id": "yJJApLs7TSUq"
      },
      "execution_count": 6,
      "outputs": []
    },
    {
      "cell_type": "code",
      "source": [
        "tf1 = compute_tf(nums_list_1,list_of_word_1)\n",
        "tf2 = compute_tf(nums_list_2,list_of_word_2)"
      ],
      "metadata": {
        "id": "gA21t0mXT-8s"
      },
      "execution_count": 7,
      "outputs": []
    },
    {
      "cell_type": "code",
      "source": [
        "tf2"
      ],
      "metadata": {
        "colab": {
          "base_uri": "https://localhost:8080/"
        },
        "id": "_EtJsm1ZUKwD",
        "outputId": "b0f5eaef-8abb-45c0-8234-cca94042cc50"
      },
      "execution_count": 9,
      "outputs": [
        {
          "output_type": "execute_result",
          "data": {
            "text/plain": [
              "{'are': 0.029411764705882353,\n",
              " 'blue': 0.0,\n",
              " 'It': 0.0,\n",
              " 'sky': 0.0,\n",
              " 'fluffy': 0.0,\n",
              " 'shone': 0.0,\n",
              " 'common': 0.029411764705882353,\n",
              " 'normal': 0.029411764705882353,\n",
              " 'brilliantly': 0.0,\n",
              " 'a': 0.08823529411764706,\n",
              " 'life.': 0.029411764705882353,\n",
              " 'was': 0.0,\n",
              " 'clouds': 0.0,\n",
              " 'sky.': 0.0,\n",
              " 'different': 0.029411764705882353,\n",
              " 'sunny': 0.0,\n",
              " 'daily': 0.029411764705882353,\n",
              " 'turning': 0.029411764705882353,\n",
              " 'we': 0.029411764705882353,\n",
              " 'in': 0.058823529411764705,\n",
              " 'bad': 0.058823529411764705,\n",
              " 'sun': 0.0,\n",
              " 'is': 0.029411764705882353,\n",
              " 'into': 0.029411764705882353,\n",
              " 'and': 0.0,\n",
              " 'or': 0.029411764705882353,\n",
              " 'the': 0.0,\n",
              " 'The': 0.0,\n",
              " 'our': 0.058823529411764705,\n",
              " 'that': 0.058823529411764705,\n",
              " 'drifted': 0.0,\n",
              " 'clear,': 0.0,\n",
              " 'There': 0.029411764705882353,\n",
              " 'one.': 0.029411764705882353,\n",
              " 'think': 0.029411764705882353,\n",
              " 'White,': 0.0,\n",
              " 'good': 0.029411764705882353,\n",
              " 'across': 0.0,\n",
              " 'I': 0.029411764705882353,\n",
              " 'mood': 0.058823529411764705,\n",
              " 'bright': 0.0,\n",
              " 'result': 0.029411764705882353,\n",
              " 'very': 0.029411764705882353,\n",
              " 'experience': 0.029411764705882353,\n",
              " 'situations': 0.029411764705882353,\n",
              " 'day.': 0.0,\n",
              " 'problem': 0.029411764705882353}"
            ]
          },
          "metadata": {},
          "execution_count": 9
        }
      ]
    },
    {
      "cell_type": "markdown",
      "source": [
        "Compute IDF "
      ],
      "metadata": {
        "id": "_L3vXLwpU8RU"
      }
    },
    {
      "cell_type": "code",
      "source": [
        "def compute_idf(docs):\n",
        "  import math\n",
        "  N = len(docs)\n",
        "  idf_dict = dict.fromkeys(docs[0].keys(), 0)\n",
        "  for doc in docs:\n",
        "    for word, val in doc.items():\n",
        "      if val > 0:\n",
        "        idf_dict[word] += 1\n",
        "  for word, val in idf_dict.items():\n",
        "    idf_dict[word] = math.log(N / float(val))\n",
        "  return idf_dict"
      ],
      "metadata": {
        "id": "Jva745-3UL5u"
      },
      "execution_count": 10,
      "outputs": []
    },
    {
      "cell_type": "code",
      "source": [
        "idfs = compute_idf([nums_list_1,nums_list_2])\n",
        "idfs"
      ],
      "metadata": {
        "colab": {
          "base_uri": "https://localhost:8080/"
        },
        "id": "D736DZzTVtFX",
        "outputId": "a0cf6e81-0c25-44cb-f7e8-a202fb0ff45d"
      },
      "execution_count": 11,
      "outputs": [
        {
          "output_type": "execute_result",
          "data": {
            "text/plain": [
              "{'are': 0.6931471805599453,\n",
              " 'blue': 0.6931471805599453,\n",
              " 'It': 0.6931471805599453,\n",
              " 'sky': 0.6931471805599453,\n",
              " 'fluffy': 0.6931471805599453,\n",
              " 'shone': 0.6931471805599453,\n",
              " 'common': 0.6931471805599453,\n",
              " 'normal': 0.6931471805599453,\n",
              " 'brilliantly': 0.6931471805599453,\n",
              " 'a': 0.0,\n",
              " 'life.': 0.6931471805599453,\n",
              " 'was': 0.6931471805599453,\n",
              " 'clouds': 0.6931471805599453,\n",
              " 'sky.': 0.6931471805599453,\n",
              " 'different': 0.6931471805599453,\n",
              " 'sunny': 0.6931471805599453,\n",
              " 'daily': 0.6931471805599453,\n",
              " 'turning': 0.6931471805599453,\n",
              " 'we': 0.6931471805599453,\n",
              " 'in': 0.0,\n",
              " 'bad': 0.6931471805599453,\n",
              " 'sun': 0.6931471805599453,\n",
              " 'is': 0.6931471805599453,\n",
              " 'into': 0.6931471805599453,\n",
              " 'and': 0.6931471805599453,\n",
              " 'or': 0.6931471805599453,\n",
              " 'the': 0.6931471805599453,\n",
              " 'The': 0.6931471805599453,\n",
              " 'our': 0.6931471805599453,\n",
              " 'that': 0.6931471805599453,\n",
              " 'drifted': 0.6931471805599453,\n",
              " 'clear,': 0.6931471805599453,\n",
              " 'There': 0.6931471805599453,\n",
              " 'one.': 0.6931471805599453,\n",
              " 'think': 0.6931471805599453,\n",
              " 'White,': 0.6931471805599453,\n",
              " 'good': 0.6931471805599453,\n",
              " 'across': 0.6931471805599453,\n",
              " 'I': 0.6931471805599453,\n",
              " 'mood': 0.6931471805599453,\n",
              " 'bright': 0.6931471805599453,\n",
              " 'result': 0.6931471805599453,\n",
              " 'very': 0.6931471805599453,\n",
              " 'experience': 0.6931471805599453,\n",
              " 'situations': 0.6931471805599453,\n",
              " 'day.': 0.6931471805599453,\n",
              " 'problem': 0.6931471805599453}"
            ]
          },
          "metadata": {},
          "execution_count": 11
        }
      ]
    },
    {
      "cell_type": "markdown",
      "source": [
        "Now compute tfidf"
      ],
      "metadata": {
        "id": "wpWycAcNV28j"
      }
    },
    {
      "cell_type": "code",
      "source": [
        "def compute_tfidf(tf,idfs):\n",
        "  tfidf = {}\n",
        "  for word, val in tf.items():\n",
        "    tfidf[word] = val * idfs[word]\n",
        "  return tfidf"
      ],
      "metadata": {
        "id": "HFWsm0lWV022"
      },
      "execution_count": 16,
      "outputs": []
    },
    {
      "cell_type": "code",
      "source": [
        "import pandas as pd\n",
        "from sklearn.feature_extraction.text import TfidfVectorizer"
      ],
      "metadata": {
        "id": "E9OydLo-WcFo"
      },
      "execution_count": 14,
      "outputs": []
    },
    {
      "cell_type": "code",
      "source": [
        "tfidf1 = compute_tfidf(tf1,idfs)\n",
        "tfidf2 = compute_tfidf(tf2,idfs)\n",
        "\n",
        "df = pd.DataFrame([tfidf1,tfidf2])"
      ],
      "metadata": {
        "id": "DVhb0QIiWK_b"
      },
      "execution_count": 17,
      "outputs": []
    },
    {
      "cell_type": "code",
      "source": [
        "df"
      ],
      "metadata": {
        "colab": {
          "base_uri": "https://localhost:8080/",
          "height": 205
        },
        "id": "BzfNyM01WxeS",
        "outputId": "caafdf8a-3921-46ec-8e75-e32377fa8870"
      },
      "execution_count": 18,
      "outputs": [
        {
          "output_type": "execute_result",
          "data": {
            "text/plain": [
              "        are      blue        It       sky    fluffy     shone    common  \\\n",
              "0  0.000000  0.043322  0.043322  0.021661  0.021661  0.021661  0.000000   \n",
              "1  0.020387  0.000000  0.000000  0.000000  0.000000  0.000000  0.020387   \n",
              "\n",
              "     normal  brilliantly    a  ...    across         I      mood    bright  \\\n",
              "0  0.000000     0.021661  0.0  ...  0.021661  0.000000  0.000000  0.043322   \n",
              "1  0.020387     0.000000  0.0  ...  0.000000  0.020387  0.040773  0.000000   \n",
              "\n",
              "     result      very  experience  situations      day.   problem  \n",
              "0  0.000000  0.000000    0.000000    0.000000  0.043322  0.000000  \n",
              "1  0.020387  0.020387    0.020387    0.020387  0.000000  0.020387  \n",
              "\n",
              "[2 rows x 47 columns]"
            ],
            "text/html": [
              "\n",
              "  <div id=\"df-1a1656df-7922-48b6-b26d-90a935824067\">\n",
              "    <div class=\"colab-df-container\">\n",
              "      <div>\n",
              "<style scoped>\n",
              "    .dataframe tbody tr th:only-of-type {\n",
              "        vertical-align: middle;\n",
              "    }\n",
              "\n",
              "    .dataframe tbody tr th {\n",
              "        vertical-align: top;\n",
              "    }\n",
              "\n",
              "    .dataframe thead th {\n",
              "        text-align: right;\n",
              "    }\n",
              "</style>\n",
              "<table border=\"1\" class=\"dataframe\">\n",
              "  <thead>\n",
              "    <tr style=\"text-align: right;\">\n",
              "      <th></th>\n",
              "      <th>are</th>\n",
              "      <th>blue</th>\n",
              "      <th>It</th>\n",
              "      <th>sky</th>\n",
              "      <th>fluffy</th>\n",
              "      <th>shone</th>\n",
              "      <th>common</th>\n",
              "      <th>normal</th>\n",
              "      <th>brilliantly</th>\n",
              "      <th>a</th>\n",
              "      <th>...</th>\n",
              "      <th>across</th>\n",
              "      <th>I</th>\n",
              "      <th>mood</th>\n",
              "      <th>bright</th>\n",
              "      <th>result</th>\n",
              "      <th>very</th>\n",
              "      <th>experience</th>\n",
              "      <th>situations</th>\n",
              "      <th>day.</th>\n",
              "      <th>problem</th>\n",
              "    </tr>\n",
              "  </thead>\n",
              "  <tbody>\n",
              "    <tr>\n",
              "      <th>0</th>\n",
              "      <td>0.000000</td>\n",
              "      <td>0.043322</td>\n",
              "      <td>0.043322</td>\n",
              "      <td>0.021661</td>\n",
              "      <td>0.021661</td>\n",
              "      <td>0.021661</td>\n",
              "      <td>0.000000</td>\n",
              "      <td>0.000000</td>\n",
              "      <td>0.021661</td>\n",
              "      <td>0.0</td>\n",
              "      <td>...</td>\n",
              "      <td>0.021661</td>\n",
              "      <td>0.000000</td>\n",
              "      <td>0.000000</td>\n",
              "      <td>0.043322</td>\n",
              "      <td>0.000000</td>\n",
              "      <td>0.000000</td>\n",
              "      <td>0.000000</td>\n",
              "      <td>0.000000</td>\n",
              "      <td>0.043322</td>\n",
              "      <td>0.000000</td>\n",
              "    </tr>\n",
              "    <tr>\n",
              "      <th>1</th>\n",
              "      <td>0.020387</td>\n",
              "      <td>0.000000</td>\n",
              "      <td>0.000000</td>\n",
              "      <td>0.000000</td>\n",
              "      <td>0.000000</td>\n",
              "      <td>0.000000</td>\n",
              "      <td>0.020387</td>\n",
              "      <td>0.020387</td>\n",
              "      <td>0.000000</td>\n",
              "      <td>0.0</td>\n",
              "      <td>...</td>\n",
              "      <td>0.000000</td>\n",
              "      <td>0.020387</td>\n",
              "      <td>0.040773</td>\n",
              "      <td>0.000000</td>\n",
              "      <td>0.020387</td>\n",
              "      <td>0.020387</td>\n",
              "      <td>0.020387</td>\n",
              "      <td>0.020387</td>\n",
              "      <td>0.000000</td>\n",
              "      <td>0.020387</td>\n",
              "    </tr>\n",
              "  </tbody>\n",
              "</table>\n",
              "<p>2 rows × 47 columns</p>\n",
              "</div>\n",
              "      <button class=\"colab-df-convert\" onclick=\"convertToInteractive('df-1a1656df-7922-48b6-b26d-90a935824067')\"\n",
              "              title=\"Convert this dataframe to an interactive table.\"\n",
              "              style=\"display:none;\">\n",
              "        \n",
              "  <svg xmlns=\"http://www.w3.org/2000/svg\" height=\"24px\"viewBox=\"0 0 24 24\"\n",
              "       width=\"24px\">\n",
              "    <path d=\"M0 0h24v24H0V0z\" fill=\"none\"/>\n",
              "    <path d=\"M18.56 5.44l.94 2.06.94-2.06 2.06-.94-2.06-.94-.94-2.06-.94 2.06-2.06.94zm-11 1L8.5 8.5l.94-2.06 2.06-.94-2.06-.94L8.5 2.5l-.94 2.06-2.06.94zm10 10l.94 2.06.94-2.06 2.06-.94-2.06-.94-.94-2.06-.94 2.06-2.06.94z\"/><path d=\"M17.41 7.96l-1.37-1.37c-.4-.4-.92-.59-1.43-.59-.52 0-1.04.2-1.43.59L10.3 9.45l-7.72 7.72c-.78.78-.78 2.05 0 2.83L4 21.41c.39.39.9.59 1.41.59.51 0 1.02-.2 1.41-.59l7.78-7.78 2.81-2.81c.8-.78.8-2.07 0-2.86zM5.41 20L4 18.59l7.72-7.72 1.47 1.35L5.41 20z\"/>\n",
              "  </svg>\n",
              "      </button>\n",
              "      \n",
              "  <style>\n",
              "    .colab-df-container {\n",
              "      display:flex;\n",
              "      flex-wrap:wrap;\n",
              "      gap: 12px;\n",
              "    }\n",
              "\n",
              "    .colab-df-convert {\n",
              "      background-color: #E8F0FE;\n",
              "      border: none;\n",
              "      border-radius: 50%;\n",
              "      cursor: pointer;\n",
              "      display: none;\n",
              "      fill: #1967D2;\n",
              "      height: 32px;\n",
              "      padding: 0 0 0 0;\n",
              "      width: 32px;\n",
              "    }\n",
              "\n",
              "    .colab-df-convert:hover {\n",
              "      background-color: #E2EBFA;\n",
              "      box-shadow: 0px 1px 2px rgba(60, 64, 67, 0.3), 0px 1px 3px 1px rgba(60, 64, 67, 0.15);\n",
              "      fill: #174EA6;\n",
              "    }\n",
              "\n",
              "    [theme=dark] .colab-df-convert {\n",
              "      background-color: #3B4455;\n",
              "      fill: #D2E3FC;\n",
              "    }\n",
              "\n",
              "    [theme=dark] .colab-df-convert:hover {\n",
              "      background-color: #434B5C;\n",
              "      box-shadow: 0px 1px 3px 1px rgba(0, 0, 0, 0.15);\n",
              "      filter: drop-shadow(0px 1px 2px rgba(0, 0, 0, 0.3));\n",
              "      fill: #FFFFFF;\n",
              "    }\n",
              "  </style>\n",
              "\n",
              "      <script>\n",
              "        const buttonEl =\n",
              "          document.querySelector('#df-1a1656df-7922-48b6-b26d-90a935824067 button.colab-df-convert');\n",
              "        buttonEl.style.display =\n",
              "          google.colab.kernel.accessAllowed ? 'block' : 'none';\n",
              "\n",
              "        async function convertToInteractive(key) {\n",
              "          const element = document.querySelector('#df-1a1656df-7922-48b6-b26d-90a935824067');\n",
              "          const dataTable =\n",
              "            await google.colab.kernel.invokeFunction('convertToInteractive',\n",
              "                                                     [key], {});\n",
              "          if (!dataTable) return;\n",
              "\n",
              "          const docLinkHtml = 'Like what you see? Visit the ' +\n",
              "            '<a target=\"_blank\" href=https://colab.research.google.com/notebooks/data_table.ipynb>data table notebook</a>'\n",
              "            + ' to learn more about interactive tables.';\n",
              "          element.innerHTML = '';\n",
              "          dataTable['output_type'] = 'display_data';\n",
              "          await google.colab.output.renderOutput(dataTable, element);\n",
              "          const docLink = document.createElement('div');\n",
              "          docLink.innerHTML = docLinkHtml;\n",
              "          element.appendChild(docLink);\n",
              "        }\n",
              "      </script>\n",
              "    </div>\n",
              "  </div>\n",
              "  "
            ]
          },
          "metadata": {},
          "execution_count": 18
        }
      ]
    },
    {
      "cell_type": "markdown",
      "source": [
        "## TFIDF using SKLEARN"
      ],
      "metadata": {
        "id": "g2pVrIBhW0vZ"
      }
    },
    {
      "cell_type": "code",
      "source": [
        "vectorizer = TfidfVectorizer()\n",
        "vector = vectorizer.fit_transform([corpus1,corpus2])\n",
        "feature_name = vectorizer.get_feature_names_out()\n",
        "dense = vector.todense()\n",
        "dense_list = dense.tolist()\n",
        "\n",
        "df = pd.DataFrame(dense_list, columns = feature_name)\n",
        "df"
      ],
      "metadata": {
        "colab": {
          "base_uri": "https://localhost:8080/",
          "height": 205
        },
        "id": "5WN31ohdWx0r",
        "outputId": "a380f376-2580-4d23-df51-63eef5cf66fa"
      },
      "execution_count": 19,
      "outputs": [
        {
          "output_type": "execute_result",
          "data": {
            "text/plain": [
              "     across       and       are       bad      blue    bright  brilliantly  \\\n",
              "0  0.136709  0.273418  0.000000  0.000000  0.273418  0.273418     0.136709   \n",
              "1  0.000000  0.000000  0.162168  0.324336  0.000000  0.000000     0.000000   \n",
              "\n",
              "      clear    clouds    common  ...     sunny      that       the     there  \\\n",
              "0  0.273418  0.136709  0.000000  ...  0.273418  0.000000  0.410128  0.000000   \n",
              "1  0.000000  0.000000  0.162168  ...  0.000000  0.324336  0.000000  0.162168   \n",
              "\n",
              "      think   turning      very       was        we     white  \n",
              "0  0.000000  0.000000  0.000000  0.273418  0.000000  0.136709  \n",
              "1  0.162168  0.162168  0.162168  0.000000  0.162168  0.000000  \n",
              "\n",
              "[2 rows x 43 columns]"
            ],
            "text/html": [
              "\n",
              "  <div id=\"df-295befb7-c973-4791-9b69-4182a1e1bab3\">\n",
              "    <div class=\"colab-df-container\">\n",
              "      <div>\n",
              "<style scoped>\n",
              "    .dataframe tbody tr th:only-of-type {\n",
              "        vertical-align: middle;\n",
              "    }\n",
              "\n",
              "    .dataframe tbody tr th {\n",
              "        vertical-align: top;\n",
              "    }\n",
              "\n",
              "    .dataframe thead th {\n",
              "        text-align: right;\n",
              "    }\n",
              "</style>\n",
              "<table border=\"1\" class=\"dataframe\">\n",
              "  <thead>\n",
              "    <tr style=\"text-align: right;\">\n",
              "      <th></th>\n",
              "      <th>across</th>\n",
              "      <th>and</th>\n",
              "      <th>are</th>\n",
              "      <th>bad</th>\n",
              "      <th>blue</th>\n",
              "      <th>bright</th>\n",
              "      <th>brilliantly</th>\n",
              "      <th>clear</th>\n",
              "      <th>clouds</th>\n",
              "      <th>common</th>\n",
              "      <th>...</th>\n",
              "      <th>sunny</th>\n",
              "      <th>that</th>\n",
              "      <th>the</th>\n",
              "      <th>there</th>\n",
              "      <th>think</th>\n",
              "      <th>turning</th>\n",
              "      <th>very</th>\n",
              "      <th>was</th>\n",
              "      <th>we</th>\n",
              "      <th>white</th>\n",
              "    </tr>\n",
              "  </thead>\n",
              "  <tbody>\n",
              "    <tr>\n",
              "      <th>0</th>\n",
              "      <td>0.136709</td>\n",
              "      <td>0.273418</td>\n",
              "      <td>0.000000</td>\n",
              "      <td>0.000000</td>\n",
              "      <td>0.273418</td>\n",
              "      <td>0.273418</td>\n",
              "      <td>0.136709</td>\n",
              "      <td>0.273418</td>\n",
              "      <td>0.136709</td>\n",
              "      <td>0.000000</td>\n",
              "      <td>...</td>\n",
              "      <td>0.273418</td>\n",
              "      <td>0.000000</td>\n",
              "      <td>0.410128</td>\n",
              "      <td>0.000000</td>\n",
              "      <td>0.000000</td>\n",
              "      <td>0.000000</td>\n",
              "      <td>0.000000</td>\n",
              "      <td>0.273418</td>\n",
              "      <td>0.000000</td>\n",
              "      <td>0.136709</td>\n",
              "    </tr>\n",
              "    <tr>\n",
              "      <th>1</th>\n",
              "      <td>0.000000</td>\n",
              "      <td>0.000000</td>\n",
              "      <td>0.162168</td>\n",
              "      <td>0.324336</td>\n",
              "      <td>0.000000</td>\n",
              "      <td>0.000000</td>\n",
              "      <td>0.000000</td>\n",
              "      <td>0.000000</td>\n",
              "      <td>0.000000</td>\n",
              "      <td>0.162168</td>\n",
              "      <td>...</td>\n",
              "      <td>0.000000</td>\n",
              "      <td>0.324336</td>\n",
              "      <td>0.000000</td>\n",
              "      <td>0.162168</td>\n",
              "      <td>0.162168</td>\n",
              "      <td>0.162168</td>\n",
              "      <td>0.162168</td>\n",
              "      <td>0.000000</td>\n",
              "      <td>0.162168</td>\n",
              "      <td>0.000000</td>\n",
              "    </tr>\n",
              "  </tbody>\n",
              "</table>\n",
              "<p>2 rows × 43 columns</p>\n",
              "</div>\n",
              "      <button class=\"colab-df-convert\" onclick=\"convertToInteractive('df-295befb7-c973-4791-9b69-4182a1e1bab3')\"\n",
              "              title=\"Convert this dataframe to an interactive table.\"\n",
              "              style=\"display:none;\">\n",
              "        \n",
              "  <svg xmlns=\"http://www.w3.org/2000/svg\" height=\"24px\"viewBox=\"0 0 24 24\"\n",
              "       width=\"24px\">\n",
              "    <path d=\"M0 0h24v24H0V0z\" fill=\"none\"/>\n",
              "    <path d=\"M18.56 5.44l.94 2.06.94-2.06 2.06-.94-2.06-.94-.94-2.06-.94 2.06-2.06.94zm-11 1L8.5 8.5l.94-2.06 2.06-.94-2.06-.94L8.5 2.5l-.94 2.06-2.06.94zm10 10l.94 2.06.94-2.06 2.06-.94-2.06-.94-.94-2.06-.94 2.06-2.06.94z\"/><path d=\"M17.41 7.96l-1.37-1.37c-.4-.4-.92-.59-1.43-.59-.52 0-1.04.2-1.43.59L10.3 9.45l-7.72 7.72c-.78.78-.78 2.05 0 2.83L4 21.41c.39.39.9.59 1.41.59.51 0 1.02-.2 1.41-.59l7.78-7.78 2.81-2.81c.8-.78.8-2.07 0-2.86zM5.41 20L4 18.59l7.72-7.72 1.47 1.35L5.41 20z\"/>\n",
              "  </svg>\n",
              "      </button>\n",
              "      \n",
              "  <style>\n",
              "    .colab-df-container {\n",
              "      display:flex;\n",
              "      flex-wrap:wrap;\n",
              "      gap: 12px;\n",
              "    }\n",
              "\n",
              "    .colab-df-convert {\n",
              "      background-color: #E8F0FE;\n",
              "      border: none;\n",
              "      border-radius: 50%;\n",
              "      cursor: pointer;\n",
              "      display: none;\n",
              "      fill: #1967D2;\n",
              "      height: 32px;\n",
              "      padding: 0 0 0 0;\n",
              "      width: 32px;\n",
              "    }\n",
              "\n",
              "    .colab-df-convert:hover {\n",
              "      background-color: #E2EBFA;\n",
              "      box-shadow: 0px 1px 2px rgba(60, 64, 67, 0.3), 0px 1px 3px 1px rgba(60, 64, 67, 0.15);\n",
              "      fill: #174EA6;\n",
              "    }\n",
              "\n",
              "    [theme=dark] .colab-df-convert {\n",
              "      background-color: #3B4455;\n",
              "      fill: #D2E3FC;\n",
              "    }\n",
              "\n",
              "    [theme=dark] .colab-df-convert:hover {\n",
              "      background-color: #434B5C;\n",
              "      box-shadow: 0px 1px 3px 1px rgba(0, 0, 0, 0.15);\n",
              "      filter: drop-shadow(0px 1px 2px rgba(0, 0, 0, 0.3));\n",
              "      fill: #FFFFFF;\n",
              "    }\n",
              "  </style>\n",
              "\n",
              "      <script>\n",
              "        const buttonEl =\n",
              "          document.querySelector('#df-295befb7-c973-4791-9b69-4182a1e1bab3 button.colab-df-convert');\n",
              "        buttonEl.style.display =\n",
              "          google.colab.kernel.accessAllowed ? 'block' : 'none';\n",
              "\n",
              "        async function convertToInteractive(key) {\n",
              "          const element = document.querySelector('#df-295befb7-c973-4791-9b69-4182a1e1bab3');\n",
              "          const dataTable =\n",
              "            await google.colab.kernel.invokeFunction('convertToInteractive',\n",
              "                                                     [key], {});\n",
              "          if (!dataTable) return;\n",
              "\n",
              "          const docLinkHtml = 'Like what you see? Visit the ' +\n",
              "            '<a target=\"_blank\" href=https://colab.research.google.com/notebooks/data_table.ipynb>data table notebook</a>'\n",
              "            + ' to learn more about interactive tables.';\n",
              "          element.innerHTML = '';\n",
              "          dataTable['output_type'] = 'display_data';\n",
              "          await google.colab.output.renderOutput(dataTable, element);\n",
              "          const docLink = document.createElement('div');\n",
              "          docLink.innerHTML = docLinkHtml;\n",
              "          element.appendChild(docLink);\n",
              "        }\n",
              "      </script>\n",
              "    </div>\n",
              "  </div>\n",
              "  "
            ]
          },
          "metadata": {},
          "execution_count": 19
        }
      ]
    },
    {
      "cell_type": "markdown",
      "source": [
        "you can see there are 43 record and in the manula there are 47 records, so the sklearn remove the single letters like \"I\""
      ],
      "metadata": {
        "id": "DnHFIXaxXo6T"
      }
    },
    {
      "cell_type": "markdown",
      "source": [
        "##Thankyou for watching"
      ],
      "metadata": {
        "id": "JrCQjtbCX1Zn"
      }
    }
  ]
}